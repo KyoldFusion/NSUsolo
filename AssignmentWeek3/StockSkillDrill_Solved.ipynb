# Import the 'os' and 'csv' libraries
import os
import csv

# Set path for importing our CSV file
pad = os.path.join('../','Resources','yahoo_stock.csv')
# Open a connection to the comma-delimited csv file 
with open(pad) as csvfile:
    # Read in the CSV file using csv.DictReader() class
    csv_reader = csv.DictReader(csvfile, delimiter=',')
    # Create a variable to save our print row and greatest daily percent change
    printrow = []
    max_pct = 0.00
    # Iterate through each row
    for i in csv_reader:
    # For each row, calculate the daily percent change
        dpc= (float(i['Close']) - float(i['Open'])) / float(i['Open']) * 100
        dpc = abs(round(dpc, 2))
        # Check if the absolute daily percent change is greater than the previous max
        if abs(dpc) > abs(max_pct):
            # If true, store new greatest daily percent change and print row
            max_pct = dpc
            printrow = i
    # Print out the date, stock high, stock low, volume and percent change for the day with the greatest percent change
    print(printrow['Date'], printrow['High'],  printrow['Low'],  printrow['Volume'], max_pct)